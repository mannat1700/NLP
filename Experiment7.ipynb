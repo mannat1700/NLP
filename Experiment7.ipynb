{
 "cells": [
  {
   "cell_type": "markdown",
   "metadata": {},
   "source": [
    "# Importing Libraries"
   ]
  },
  {
   "cell_type": "code",
   "execution_count": 36,
   "metadata": {},
   "outputs": [],
   "source": [
    "import numpy as np\n",
    "from sklearn.datasets import fetch_20newsgroups\n",
    "from sklearn.feature_extraction.text import CountVectorizer\n",
    "from sklearn.feature_extraction.text import TfidfTransformer\n",
    "from sklearn.neighbors import KNeighborsClassifier\n",
    "from sklearn.pipeline import Pipeline\n",
    "from sklearn.naive_bayes import GaussianNB\n",
    "from sklearn.naive_bayes import MultinomialNB"
   ]
  },
  {
   "cell_type": "markdown",
   "metadata": {},
   "source": [
    "# Data"
   ]
  },
  {
   "cell_type": "code",
   "execution_count": 2,
   "metadata": {},
   "outputs": [
    {
     "name": "stdout",
     "output_type": "stream",
     "text": [
      "['comp.graphics', 'rec.motorcycles', 'sci.electronics', 'sci.med']\n",
      "From: kreyling@lds.loral.com (Ed Kreyling 6966)\n",
      "Subject: Sun-os and 8bit ASCII graphics\n",
      "Organization: Loral Data Systems\n",
      "comp.graphics\n",
      "comp.graphics\n",
      "comp.graphics\n",
      "rec.motorcycles\n",
      "comp.graphics\n",
      "sci.med\n",
      "sci.electronics\n",
      "sci.electronics\n",
      "comp.graphics\n",
      "rec.motorcycles\n",
      "sci.electronics\n"
     ]
    }
   ],
   "source": [
    "categories = ['rec.motorcycles', 'sci.electronics',\n",
    "              'comp.graphics', 'sci.med']\n",
    "\n",
    "# sklearn provides us with subset data for training and testing\n",
    "train_data = fetch_20newsgroups(subset='train',\n",
    "                                categories=categories, shuffle=True, random_state=42)\n",
    "\n",
    "print(train_data.target_names)\n",
    "\n",
    "print(\"\\n\".join(train_data.data[0].split(\"\\n\")[:3]))\n",
    "print(train_data.target_names[train_data.target[0]])\n",
    "\n",
    "# Let's look at categories of our first ten training data\n",
    "for t in train_data.target[:10]:\n",
    "    print(train_data.target_names[t])"
   ]
  },
  {
   "cell_type": "markdown",
   "metadata": {},
   "source": [
    "# Converting text data into numerical data"
   ]
  },
  {
   "cell_type": "code",
   "execution_count": 6,
   "metadata": {},
   "outputs": [],
   "source": [
    "count_vect = CountVectorizer()\n",
    "X_train_counts = count_vect.fit_transform(train_data.data)\n",
    "\n",
    "# transform a count matrix to a normalized tf-idf representation (tf-idf transformer)\n",
    "tfidf_transformer = TfidfTransformer()\n",
    "X_train_tfidf = tfidf_transformer.fit_transform(X_train_counts)"
   ]
  },
  {
   "cell_type": "markdown",
   "metadata": {},
   "source": [
    "# KNN Implementation"
   ]
  },
  {
   "cell_type": "code",
   "execution_count": 7,
   "metadata": {},
   "outputs": [],
   "source": [
    "knn = KNeighborsClassifier(n_neighbors=7)\n",
    "\n",
    "clf = knn.fit(X_train_tfidf, train_data.target)\n",
    "\n",
    "docs_new = ['I have a Harley Davidson and Yamaha.', 'I have a GTX 1050 GPU']\n",
    "\n",
    "X_new_counts = count_vect.transform(docs_new)\n",
    "X_new_tfidf = tfidf_transformer.transform(X_new_counts)"
   ]
  },
  {
   "cell_type": "code",
   "execution_count": 8,
   "metadata": {},
   "outputs": [
    {
     "name": "stdout",
     "output_type": "stream",
     "text": [
      "'I have a Harley Davidson and Yamaha.' => rec.motorcycles\n",
      "'I have a GTX 1050 GPU' => sci.med\n"
     ]
    }
   ],
   "source": [
    "predicted = clf.predict(X_new_tfidf)\n",
    "\n",
    "for doc, category in zip(docs_new, predicted):\n",
    "    print('%r => %s' % (doc, train_data.target_names[category]))"
   ]
  },
  {
   "cell_type": "markdown",
   "metadata": {},
   "source": [
    "# pipelining KNN"
   ]
  },
  {
   "cell_type": "code",
   "execution_count": 13,
   "metadata": {},
   "outputs": [
    {
     "name": "stdout",
     "output_type": "stream",
     "text": [
      "We got an accuracy of 82.67766497461929 % over the test data.\n"
     ]
    }
   ],
   "source": [
    "text_clf = Pipeline([\n",
    "    ('vect', CountVectorizer()),\n",
    "    ('tfidf', TfidfTransformer()),\n",
    "    ('clf', knn),\n",
    "])\n",
    "# Fitting our train data to the pipeline\n",
    "text_clf.fit(train_data.data, train_data.target)\n",
    "\n",
    "# Test data \n",
    "test_data = fetch_20newsgroups(subset='test',\n",
    "                               categories=categories, shuffle=True, random_state=42)\n",
    "docs_test = test_data.data\n",
    "# Predicting our test data\n",
    "predicted = text_clf.predict(docs_test)\n",
    "print('We got an accuracy of',np.mean(predicted == test_data.target)*100, '% over the test data.')"
   ]
  },
  {
   "cell_type": "markdown",
   "metadata": {},
   "source": [
    "# Naive Bayes Implementation\n"
   ]
  },
  {
   "cell_type": "code",
   "execution_count": 24,
   "metadata": {},
   "outputs": [],
   "source": [
    "count_vect1 = CountVectorizer()\n",
    "X_train_counts1 = count_vect.fit_transform(train_data.data)\n",
    "\n",
    "# transform a count matrix to a normalized tf-idf representation (tf-idf transformer)\n",
    "tfidf_transformer1 = TfidfTransformer()\n",
    "X_train_tfidf1 = tfidf_transformer1.fit_transform(X_train_counts1).toarray()"
   ]
  },
  {
   "cell_type": "code",
   "execution_count": 28,
   "metadata": {},
   "outputs": [],
   "source": [
    "gnb = GaussianNB()\n",
    "glf = gnb.fit(X_train_tfidf1.toarray(), train_data.target)\n",
    "\n",
    "docs_new = ['I have a Harley Davidson and Yamaha.', 'I have a GTX 1050 GPU']\n",
    "\n",
    "X_new_counts1 = count_vect.transform(docs_new)\n",
    "X_new_tfidf1 = tfidf_transformer1.transform(X_new_counts1).toarray()"
   ]
  },
  {
   "cell_type": "code",
   "execution_count": 29,
   "metadata": {},
   "outputs": [
    {
     "name": "stdout",
     "output_type": "stream",
     "text": [
      "'I have a Harley Davidson and Yamaha.' => rec.motorcycles\n",
      "'I have a GTX 1050 GPU' => sci.med\n"
     ]
    }
   ],
   "source": [
    "predicted1 = gnb.predict(X_new_tfidf1)\n",
    "\n",
    "for doc, category in zip(docs_new, predicted1):\n",
    "    print('%r => %s' % (doc, train_data.target_names[category]))"
   ]
  },
  {
   "cell_type": "code",
   "execution_count": 40,
   "metadata": {},
   "outputs": [
    {
     "name": "stdout",
     "output_type": "stream",
     "text": [
      "We got an accuracy of 79.75838 % over the test data.\n"
     ]
    }
   ],
   "source": [
    "text_clf1 = Pipeline([\n",
    "    ('vect', CountVectorizer()),\n",
    "    ('tfidf', TfidfTransformer()),\n",
    "    ('glf', gnb),\n",
    "])\n",
    "# Fitting our train data to the pipeline\n",
    "text_clf1.fit(train_data.data, train_data.target)\n",
    "\n",
    "# Test data \n",
    "test_data1 = fetch_20newsgroups(subset='test',\n",
    "                               categories=categories, shuffle=True, random_state=42)\n",
    "docs_test = test_data1.data\n",
    "# Predicting our test data\n",
    "predicted1 = text_clf.predict(docs_test)\n",
    "print('We got an accuracy of',np.mean(predicted1 == test_data.target)*100, '% over the test data.')"
   ]
  },
  {
   "cell_type": "markdown",
   "metadata": {},
   "source": [
    "# Multinomial Naive Bayes Implementation"
   ]
  },
  {
   "cell_type": "code",
   "execution_count": 37,
   "metadata": {},
   "outputs": [],
   "source": [
    "clfa = MultinomialNB()\n",
    "c = clfa.fit(X_train_tfidf, train_data.target)\n",
    "\n",
    "docs_new = ['I have a Harley Davidson and Yamaha.', 'I have a GTX 1050 GPU']\n",
    "\n",
    "X_new_counts2 = count_vect.transform(docs_new)\n",
    "X_new_tfidf2 = tfidf_transformer.transform(X_new_counts2)"
   ]
  },
  {
   "cell_type": "code",
   "execution_count": 39,
   "metadata": {},
   "outputs": [
    {
     "name": "stdout",
     "output_type": "stream",
     "text": [
      "'I have a Harley Davidson and Yamaha.' => rec.motorcycles\n",
      "'I have a GTX 1050 GPU' => sci.med\n"
     ]
    }
   ],
   "source": [
    "predicted2 = gnb.predict(X_new_tfidf2.toarray())\n",
    "\n",
    "for doc, category in zip(docs_new, predicted2):\n",
    "    print('%r => %s' % (doc, train_data.target_names[category]))"
   ]
  },
  {
   "cell_type": "code",
   "execution_count": 42,
   "metadata": {},
   "outputs": [
    {
     "name": "stdout",
     "output_type": "stream",
     "text": [
      "We got an accuracy of 82.46782 % over the test data.\n"
     ]
    }
   ],
   "source": [
    "text_clf2 = Pipeline([\n",
    "    ('vect', CountVectorizer()),\n",
    "    ('tfidf', TfidfTransformer()),\n",
    "    ('c', clfa),\n",
    "])\n",
    "# Fitting our train data to the pipeline\n",
    "text_clf2.fit(train_data.data, train_data.target)\n",
    "\n",
    "# Test data \n",
    "test_data2 = fetch_20newsgroups(subset='test',\n",
    "                               categories=categories, shuffle=True, random_state=42)\n",
    "docs_test = test_data2.data\n",
    "# Predicting our test data\n",
    "predicted2 = text_clf.predict(docs_test)\n",
    "print('We got an accuracy of',np.mean(predicted2 == test_data.target)*100, '% over the test data.')"
   ]
  },
  {
   "cell_type": "code",
   "execution_count": null,
   "metadata": {},
   "outputs": [],
   "source": []
  }
 ],
 "metadata": {
  "kernelspec": {
   "display_name": "Python 3",
   "language": "python",
   "name": "python3"
  },
  "language_info": {
   "codemirror_mode": {
    "name": "ipython",
    "version": 3
   },
   "file_extension": ".py",
   "mimetype": "text/x-python",
   "name": "python",
   "nbconvert_exporter": "python",
   "pygments_lexer": "ipython3",
   "version": "3.8.3"
  }
 },
 "nbformat": 4,
 "nbformat_minor": 4
}
