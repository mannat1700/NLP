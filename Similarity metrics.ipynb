{
 "cells": [
  {
   "cell_type": "markdown",
   "metadata": {},
   "source": [
    "# Levenshtine"
   ]
  },
  {
   "cell_type": "code",
   "execution_count": 1,
   "metadata": {},
   "outputs": [
    {
     "name": "stdout",
     "output_type": "stream",
     "text": [
      "Length of ref 7\n",
      "Edit Distance of word 0 = 5\n",
      "Edit Distance of word 1 = 6\n",
      "Edit Distance of word 2 = 3\n",
      "Edit Distance of word 3 = 3\n",
      "Edit Distance of word 4 = 3\n",
      "Edit Distance of word 5 = 5\n",
      "total correction = 25\n",
      "Average Correction Words=  3.5714285714285716\n"
     ]
    }
   ],
   "source": [
    "def edit_distance(s1, s2):\n",
    "    m=len(s1)+1\n",
    "    n=len(s2)+1\n",
    "\n",
    "    tbl = {}\n",
    "    for i in range(m): tbl[i,0]=i\n",
    "    for j in range(n): tbl[0,j]=j\n",
    "    for i in range(1, m):\n",
    "        for j in range(1, n):\n",
    "            cost = 0 if s1[i-1] == s2[j-1] else 1\n",
    "            tbl[i,j] = min(tbl[i, j-1]+1, tbl[i-1, j]+1, tbl[i-1, j-1]+cost)\n",
    "\n",
    "    return (tbl[i,j])\n",
    "ref = 'Hello there! Did I get that right?'\n",
    "test = 'Right Hi, how can I help?'\n",
    "ref = ref.split()\n",
    "test = test.split()\n",
    "print(\"Length of ref\" , len(ref))\n",
    "summ=0\n",
    "for i in range(0 , 6):\n",
    "  dist = edit_distance(ref[i] , test[i])\n",
    "  print(\"Edit Distance of word\" , i ,'=' , dist)\n",
    "  summ = summ + dist\n",
    "print(\"total correction =\" , summ)\n",
    "print(\"Average Correction Words= \" , summ/len(ref))\n"
   ]
  },
  {
   "cell_type": "markdown",
   "metadata": {},
   "source": [
    "# Jaccard similarity"
   ]
  },
  {
   "cell_type": "code",
   "execution_count": 2,
   "metadata": {},
   "outputs": [
    {
     "name": "stdout",
     "output_type": "stream",
     "text": [
      "Jaccard Coefficient = 0.08333333333333333\n"
     ]
    }
   ],
   "source": [
    "def jaccard_coef(x ,y ):\n",
    "  x = list(x.split())\n",
    "  y= list(y.split())\n",
    "  intersection = len(list(set(x).intersection(y)))\n",
    "  union = (len(x) + len(y)) - intersection\n",
    "  return float(intersection) / union\n",
    "ref = 'Hello there! Did I get that right?'\n",
    "test = 'Right Hi, how can I help?'\n",
    "print(\"Jaccard Coefficient =\" , jaccard_coef(ref , test))"
   ]
  },
  {
   "cell_type": "markdown",
   "metadata": {},
   "source": [
    "# Cosine similarity"
   ]
  },
  {
   "cell_type": "markdown",
   "metadata": {},
   "source": [
    "Count vectorizer"
   ]
  },
  {
   "cell_type": "code",
   "execution_count": 5,
   "metadata": {},
   "outputs": [],
   "source": [
    "doc_1 = \"Iwent to shopping today with my mother\"\n",
    "\n",
    "doc_2 = \"My mother is very fond of shopping but I hate it\"\n",
    "\n",
    "\n",
    "documents = [doc_1, doc_2]"
   ]
  },
  {
   "cell_type": "code",
   "execution_count": 6,
   "metadata": {},
   "outputs": [
    {
     "data": {
      "text/html": [
       "<div>\n",
       "<style scoped>\n",
       "    .dataframe tbody tr th:only-of-type {\n",
       "        vertical-align: middle;\n",
       "    }\n",
       "\n",
       "    .dataframe tbody tr th {\n",
       "        vertical-align: top;\n",
       "    }\n",
       "\n",
       "    .dataframe thead th {\n",
       "        text-align: right;\n",
       "    }\n",
       "</style>\n",
       "<table border=\"1\" class=\"dataframe\">\n",
       "  <thead>\n",
       "    <tr style=\"text-align: right;\">\n",
       "      <th></th>\n",
       "      <th>but</th>\n",
       "      <th>fond</th>\n",
       "      <th>hate</th>\n",
       "      <th>is</th>\n",
       "      <th>it</th>\n",
       "      <th>iwent</th>\n",
       "      <th>mother</th>\n",
       "      <th>my</th>\n",
       "      <th>of</th>\n",
       "      <th>shopping</th>\n",
       "      <th>to</th>\n",
       "      <th>today</th>\n",
       "      <th>very</th>\n",
       "      <th>with</th>\n",
       "    </tr>\n",
       "  </thead>\n",
       "  <tbody>\n",
       "    <tr>\n",
       "      <th>doc_1</th>\n",
       "      <td>0</td>\n",
       "      <td>0</td>\n",
       "      <td>0</td>\n",
       "      <td>0</td>\n",
       "      <td>0</td>\n",
       "      <td>1</td>\n",
       "      <td>1</td>\n",
       "      <td>1</td>\n",
       "      <td>0</td>\n",
       "      <td>1</td>\n",
       "      <td>1</td>\n",
       "      <td>1</td>\n",
       "      <td>0</td>\n",
       "      <td>1</td>\n",
       "    </tr>\n",
       "    <tr>\n",
       "      <th>doc_2</th>\n",
       "      <td>1</td>\n",
       "      <td>1</td>\n",
       "      <td>1</td>\n",
       "      <td>1</td>\n",
       "      <td>1</td>\n",
       "      <td>0</td>\n",
       "      <td>1</td>\n",
       "      <td>1</td>\n",
       "      <td>1</td>\n",
       "      <td>1</td>\n",
       "      <td>0</td>\n",
       "      <td>0</td>\n",
       "      <td>1</td>\n",
       "      <td>0</td>\n",
       "    </tr>\n",
       "  </tbody>\n",
       "</table>\n",
       "</div>"
      ],
      "text/plain": [
       "       but  fond  hate  is  it  iwent  mother  my  of  shopping  to  today  \\\n",
       "doc_1    0     0     0   0   0      1       1   1   0         1   1      1   \n",
       "doc_2    1     1     1   1   1      0       1   1   1         1   0      0   \n",
       "\n",
       "       very  with  \n",
       "doc_1     0     1  \n",
       "doc_2     1     0  "
      ]
     },
     "execution_count": 6,
     "metadata": {},
     "output_type": "execute_result"
    }
   ],
   "source": [
    "from sklearn.feature_extraction.text import CountVectorizer\n",
    "import pandas as pd\n",
    "\n",
    "count_vectorizer = CountVectorizer(stop_words='english')\n",
    "count_vectorizer = CountVectorizer()\n",
    "sparse_matrix = count_vectorizer.fit_transform(documents)\n",
    "\n",
    "\n",
    "doc_term_matrix = sparse_matrix.todense()\n",
    "df = pd.DataFrame(doc_term_matrix, \n",
    "                  columns=count_vectorizer.get_feature_names(), \n",
    "                  index=['doc_1', 'doc_2'])\n",
    "df"
   ]
  },
  {
   "cell_type": "code",
   "execution_count": 9,
   "metadata": {},
   "outputs": [
    {
     "name": "stdout",
     "output_type": "stream",
     "text": [
      "[[1.         0.35856858]\n",
      " [0.35856858 1.        ]]\n"
     ]
    }
   ],
   "source": [
    "from sklearn.metrics.pairwise import cosine_similarity\n",
    "print(cosine_similarity(df, df))"
   ]
  },
  {
   "cell_type": "markdown",
   "metadata": {},
   "source": [
    "TFIDF"
   ]
  },
  {
   "cell_type": "code",
   "execution_count": 10,
   "metadata": {},
   "outputs": [
    {
     "name": "stdout",
     "output_type": "stream",
     "text": [
      "[[0.79403872 0.79403872]]\n"
     ]
    }
   ],
   "source": [
    "from sklearn.feature_extraction.text import TfidfVectorizer\n",
    "from sklearn.metrics.pairwise import cosine_similarity\n",
    "train_set = [\"The sky is blue.\", \"The sun is bright.\"]\n",
    "test_set = [\"The sun in the sky is bright.\"]\n",
    "tfidf_vectorizer = TfidfVectorizer()\n",
    "tfidf_train = tfidf_vectorizer.fit_transform(train_set)\n",
    "tfidf_test = tfidf_vectorizer.fit_transform(test_set)\n",
    "cos = cosine_similarity(tfidf_test, tfidf_train)\n",
    "print (cos)\n"
   ]
  },
  {
   "cell_type": "code",
   "execution_count": null,
   "metadata": {},
   "outputs": [],
   "source": []
  },
  {
   "cell_type": "code",
   "execution_count": null,
   "metadata": {},
   "outputs": [],
   "source": []
  },
  {
   "cell_type": "code",
   "execution_count": null,
   "metadata": {},
   "outputs": [],
   "source": []
  },
  {
   "cell_type": "code",
   "execution_count": null,
   "metadata": {},
   "outputs": [],
   "source": []
  },
  {
   "cell_type": "code",
   "execution_count": null,
   "metadata": {},
   "outputs": [],
   "source": []
  },
  {
   "cell_type": "code",
   "execution_count": null,
   "metadata": {},
   "outputs": [],
   "source": []
  }
 ],
 "metadata": {
  "kernelspec": {
   "display_name": "Python 3",
   "language": "python",
   "name": "python3"
  },
  "language_info": {
   "codemirror_mode": {
    "name": "ipython",
    "version": 3
   },
   "file_extension": ".py",
   "mimetype": "text/x-python",
   "name": "python",
   "nbconvert_exporter": "python",
   "pygments_lexer": "ipython3",
   "version": "3.7.6"
  }
 },
 "nbformat": 4,
 "nbformat_minor": 4
}
