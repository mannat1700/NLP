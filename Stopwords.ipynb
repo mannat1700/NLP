{
 "cells": [
  {
   "cell_type": "markdown",
   "metadata": {},
   "source": [
    "# a) Print all the Arabic Stopwords"
   ]
  },
  {
   "cell_type": "code",
   "execution_count": 2,
   "metadata": {},
   "outputs": [
    {
     "name": "stdout",
     "output_type": "stream",
     "text": [
      "['إذ', 'إذا', 'إذما', 'إذن', 'أف', 'أقل', 'أكثر', 'ألا', 'إلا', 'التي', 'الذي', 'الذين', 'اللاتي', 'اللائي', 'اللتان', 'اللتيا', 'اللتين', 'اللذان', 'اللذين', 'اللواتي', 'إلى', 'إليك', 'إليكم', 'إليكما', 'إليكن', 'أم', 'أما', 'أما', 'إما', 'أن', 'إن', 'إنا', 'أنا', 'أنت', 'أنتم', 'أنتما', 'أنتن', 'إنما', 'إنه', 'أنى', 'أنى', 'آه', 'آها', 'أو', 'أولاء', 'أولئك', 'أوه', 'آي', 'أي', 'أيها', 'إي', 'أين', 'أين', 'أينما', 'إيه', 'بخ', 'بس', 'بعد', 'بعض', 'بك', 'بكم', 'بكم', 'بكما', 'بكن', 'بل', 'بلى', 'بما', 'بماذا', 'بمن', 'بنا', 'به', 'بها', 'بهم', 'بهما', 'بهن', 'بي', 'بين', 'بيد', 'تلك', 'تلكم', 'تلكما', 'ته', 'تي', 'تين', 'تينك', 'ثم', 'ثمة', 'حاشا', 'حبذا', 'حتى', 'حيث', 'حيثما', 'حين', 'خلا', 'دون', 'ذا', 'ذات', 'ذاك', 'ذان', 'ذانك', 'ذلك', 'ذلكم', 'ذلكما', 'ذلكن', 'ذه', 'ذو', 'ذوا', 'ذواتا', 'ذواتي', 'ذي', 'ذين', 'ذينك', 'ريث', 'سوف', 'سوى', 'شتان', 'عدا', 'عسى', 'عل', 'على', 'عليك', 'عليه', 'عما', 'عن', 'عند', 'غير', 'فإذا', 'فإن', 'فلا', 'فمن', 'في', 'فيم', 'فيما', 'فيه', 'فيها', 'قد', 'كأن', 'كأنما', 'كأي', 'كأين', 'كذا', 'كذلك', 'كل', 'كلا', 'كلاهما', 'كلتا', 'كلما', 'كليكما', 'كليهما', 'كم', 'كم', 'كما', 'كي', 'كيت', 'كيف', 'كيفما', 'لا', 'لاسيما', 'لدى', 'لست', 'لستم', 'لستما', 'لستن', 'لسن', 'لسنا', 'لعل', 'لك', 'لكم', 'لكما', 'لكن', 'لكنما', 'لكي', 'لكيلا', 'لم', 'لما', 'لن', 'لنا', 'له', 'لها', 'لهم', 'لهما', 'لهن', 'لو', 'لولا', 'لوما', 'لي', 'لئن', 'ليت', 'ليس', 'ليسا', 'ليست', 'ليستا', 'ليسوا', 'ما', 'ماذا', 'متى', 'مذ', 'مع', 'مما', 'ممن', 'من', 'منه', 'منها', 'منذ', 'مه', 'مهما', 'نحن', 'نحو', 'نعم', 'ها', 'هاتان', 'هاته', 'هاتي', 'هاتين', 'هاك', 'هاهنا', 'هذا', 'هذان', 'هذه', 'هذي', 'هذين', 'هكذا', 'هل', 'هلا', 'هم', 'هما', 'هن', 'هنا', 'هناك', 'هنالك', 'هو', 'هؤلاء', 'هي', 'هيا', 'هيت', 'هيهات', 'والذي', 'والذين', 'وإذ', 'وإذا', 'وإن', 'ولا', 'ولكن', 'ولو', 'وما', 'ومن', 'وهو', 'يا']\n"
     ]
    }
   ],
   "source": [
    "from nltk.corpus import stopwords\n",
    "stopwords_list = stopwords.words('arabic')\n",
    "print(stopwords_list)"
   ]
  },
  {
   "cell_type": "markdown",
   "metadata": {},
   "source": [
    "# b) Omit a given list of stop words from the total stopwords list of English language"
   ]
  },
  {
   "cell_type": "code",
   "execution_count": 3,
   "metadata": {},
   "outputs": [
    {
     "name": "stdout",
     "output_type": "stream",
     "text": [
      "List of stopwords in English:\n",
      "{'his', 'over', 'all', \"wasn't\", 'the', 'below', 'yourself', 'from', \"hasn't\", \"should've\", 'both', 'her', 'now', 'under', 'their', 'had', 'theirs', 'your', 'through', 'in', 'mustn', 'yourselves', \"needn't\", 'we', 'again', 'once', 'haven', 'shan', \"wouldn't\", 'against', 'should', 'doing', 'very', 'he', 'be', 'where', 'which', 'having', 'are', 'few', 'down', 't', 'some', 'only', 'they', 'me', 'wouldn', \"haven't\", 'same', \"it's\", 'd', 'here', 'him', \"mustn't\", 'did', 'and', 'ourselves', 'with', 'couldn', 'on', 'm', 'no', 'to', 'hers', \"that'll\", \"aren't\", 'what', 'or', 'whom', 'because', 'out', 'just', 'themselves', 'further', 'an', 'so', 'hasn', 'herself', 'of', 'you', 'how', 'than', 'ain', 'above', 'its', 'most', 'then', 'into', 'does', 'y', 'can', \"you'll\", 'yours', 'i', 'those', 'while', 'until', 'himself', 'not', 'such', 'there', 'each', 'is', 'were', 'myself', 's', 'ma', \"won't\", 'a', 'wasn', 'as', 'doesn', 'off', 'who', 'shouldn', 'too', 'between', 'at', 'nor', 'won', 'more', \"don't\", 'during', 'being', 'our', 'do', \"mightn't\", 'after', 'aren', 'my', 'ours', 'own', \"weren't\", 'it', 'if', 'this', 'itself', 'any', 'for', \"doesn't\", 'have', \"you've\", \"you'd\", 've', 'been', 'didn', 'up', 'don', 'by', 'before', 'mightn', 'hadn', 'she', 'needn', 're', \"you're\", \"didn't\", \"she's\", \"hadn't\", 'isn', \"shouldn't\", 'weren', 'am', 'them', 'these', 'when', 'other', 'o', \"couldn't\", \"isn't\", 'about', 'why', 'has', 'was', 'but', 'will', 'll', 'that', \"shan't\"}\n",
      "\n",
      "List of stopwords in English:\n",
      "{'his', 'over', 'all', \"wasn't\", 'the', 'below', 'yourself', 'from', \"hasn't\", \"should've\", 'both', 'her', 'now', 'under', 'their', 'had', 'theirs', 'your', 'through', 'in', 'mustn', 'yourselves', \"needn't\", 'we', 'again', 'once', 'haven', 'shan', \"wouldn't\", 'against', 'should', 'doing', 'very', 'he', 'be', 'where', 'which', 'having', 'are', 'few', 'down', 't', 'some', 'only', 'they', 'me', 'wouldn', \"haven't\", 'same', \"it's\", 'd', 'here', 'him', \"mustn't\", 'did', 'and', 'ourselves', 'with', 'couldn', 'on', 'm', 'no', 'to', 'hers', \"that'll\", \"aren't\", 'what', 'or', 'whom', 'because', 'out', 'just', 'themselves', 'further', 'an', 'so', 'hasn', 'herself', 'of', 'you', 'how', 'than', 'ain', 'its', 'most', 'then', 'into', 'does', 'y', 'can', \"you'll\", 'yours', 'i', 'those', 'while', 'until', 'himself', 'not', 'such', 'there', 'each', 'is', 'were', 's', 'ma', \"won't\", 'a', 'wasn', 'as', 'doesn', 'off', 'who', 'shouldn', 'too', 'between', 'at', 'nor', 'more', \"don't\", 'during', 'being', 'our', 'do', \"mightn't\", 'after', 'aren', 'my', 'ours', 'own', \"weren't\", 'it', 'if', 'this', 'itself', 'any', 'for', \"doesn't\", 'have', \"you've\", \"you'd\", 've', 'been', 'didn', 'up', 'don', 'by', 'before', 'mightn', 'hadn', 'she', 'needn', 're', \"you're\", \"didn't\", \"she's\", \"hadn't\", 'isn', \"shouldn't\", 'weren', 'am', 'them', 'these', 'when', 'other', 'o', \"couldn't\", \"isn't\", 'about', 'why', 'has', 'was', 'but', 'will', 'll', 'that', \"shan't\"}\n"
     ]
    }
   ],
   "source": [
    "r = set(stopwords.words('english'))\n",
    "print(\"List of stopwords in English:\")\n",
    "print(r)\n",
    "\n",
    "stop_words = set(stopwords.words('english')) - set(['myself', 'won', 'above'])\n",
    "print(\"\\nList of stopwords in English:\")\n",
    "print (stop_words)"
   ]
  },
  {
   "cell_type": "code",
   "execution_count": null,
   "metadata": {},
   "outputs": [],
   "source": []
  }
 ],
 "metadata": {
  "kernelspec": {
   "display_name": "Python 3",
   "language": "python",
   "name": "python3"
  },
  "language_info": {
   "codemirror_mode": {
    "name": "ipython",
    "version": 3
   },
   "file_extension": ".py",
   "mimetype": "text/x-python",
   "name": "python",
   "nbconvert_exporter": "python",
   "pygments_lexer": "ipython3",
   "version": "3.7.6"
  }
 },
 "nbformat": 4,
 "nbformat_minor": 4
}
