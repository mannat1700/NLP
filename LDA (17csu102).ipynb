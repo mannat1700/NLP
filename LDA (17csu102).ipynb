{
 "cells": [
  {
   "cell_type": "markdown",
   "metadata": {},
   "source": [
    "# Latent Dirichlet Allocation"
   ]
  },
  {
   "cell_type": "markdown",
   "metadata": {},
   "source": [
    "Latent Dirichlet Allocation (LDA) is a popular approach for topic modeling. It works by identifying the key topics within a set of text documents, and the key words that make up each topic.\n",
    "\n",
    "Under LDA, each document is assumed to have a mix of underlying (latent) topics, each topic with a certain probability of occurring in the document. Individual text documents can therefore be represented by the topics that make them up.\n",
    "\n",
    "In this way, LDA topic modeling can be used to categorize or classify documents based on their topic content.\n",
    "\n",
    "Each LDA topic model requires:\n",
    "\n",
    "1. A set of documents for training the model—the training corpus\n",
    "2. A dictionary of words to form the vocabulary used in the model—this can be derived from the training corpus\n",
    "\n",
    "\n",
    "Once a model has been trained, it can be applied to a new set of documents to identify the topics in those new documents."
   ]
  },
  {
   "cell_type": "markdown",
   "metadata": {},
   "source": [
    "## Dataset"
   ]
  },
  {
   "cell_type": "code",
   "execution_count": 2,
   "metadata": {},
   "outputs": [],
   "source": [
    "import pandas as pd\n",
    "\n",
    "data = pd.read_csv('C:/Users/manna/OneDrive/Documents/movie_review_final.csv', error_bad_lines=False);\n",
    "data_text = data[['text']]\n",
    "data_text['index'] = data_text.index\n",
    "documents = data_text"
   ]
  },
  {
   "cell_type": "code",
   "execution_count": 3,
   "metadata": {},
   "outputs": [
    {
     "data": {
      "text/plain": [
       "64720"
      ]
     },
     "execution_count": 3,
     "metadata": {},
     "output_type": "execute_result"
    }
   ],
   "source": [
    "len(documents)"
   ]
  },
  {
   "cell_type": "code",
   "execution_count": 4,
   "metadata": {},
   "outputs": [
    {
     "data": {
      "text/html": [
       "<div>\n",
       "<style scoped>\n",
       "    .dataframe tbody tr th:only-of-type {\n",
       "        vertical-align: middle;\n",
       "    }\n",
       "\n",
       "    .dataframe tbody tr th {\n",
       "        vertical-align: top;\n",
       "    }\n",
       "\n",
       "    .dataframe thead th {\n",
       "        text-align: right;\n",
       "    }\n",
       "</style>\n",
       "<table border=\"1\" class=\"dataframe\">\n",
       "  <thead>\n",
       "    <tr style=\"text-align: right;\">\n",
       "      <th></th>\n",
       "      <th>text</th>\n",
       "      <th>index</th>\n",
       "    </tr>\n",
       "  </thead>\n",
       "  <tbody>\n",
       "    <tr>\n",
       "      <th>0</th>\n",
       "      <td>films adapted from comic books have had plenty...</td>\n",
       "      <td>0</td>\n",
       "    </tr>\n",
       "    <tr>\n",
       "      <th>1</th>\n",
       "      <td>for starters , it was created by alan moore ( ...</td>\n",
       "      <td>1</td>\n",
       "    </tr>\n",
       "    <tr>\n",
       "      <th>2</th>\n",
       "      <td>to say moore and campbell thoroughly researche...</td>\n",
       "      <td>2</td>\n",
       "    </tr>\n",
       "    <tr>\n",
       "      <th>3</th>\n",
       "      <td>the book ( or \" graphic novel , \" if you will ...</td>\n",
       "      <td>3</td>\n",
       "    </tr>\n",
       "    <tr>\n",
       "      <th>4</th>\n",
       "      <td>in other words , don't dismiss this film becau...</td>\n",
       "      <td>4</td>\n",
       "    </tr>\n",
       "  </tbody>\n",
       "</table>\n",
       "</div>"
      ],
      "text/plain": [
       "                                                text  index\n",
       "0  films adapted from comic books have had plenty...      0\n",
       "1  for starters , it was created by alan moore ( ...      1\n",
       "2  to say moore and campbell thoroughly researche...      2\n",
       "3  the book ( or \" graphic novel , \" if you will ...      3\n",
       "4  in other words , don't dismiss this film becau...      4"
      ]
     },
     "execution_count": 4,
     "metadata": {},
     "output_type": "execute_result"
    }
   ],
   "source": [
    "documents.head()"
   ]
  },
  {
   "cell_type": "markdown",
   "metadata": {},
   "source": [
    "## Pre-processing"
   ]
  },
  {
   "cell_type": "code",
   "execution_count": 7,
   "metadata": {},
   "outputs": [
    {
     "name": "stdout",
     "output_type": "stream",
     "text": [
      "Collecting gensim\n",
      "  Downloading gensim-4.0.1-cp37-cp37m-win_amd64.whl (23.9 MB)\n",
      "Requirement already satisfied: scipy>=0.18.1 in c:\\users\\manna\\anaconda3\\lib\\site-packages (from gensim) (1.4.1)\n",
      "Requirement already satisfied: numpy>=1.11.3 in c:\\users\\manna\\anaconda3\\lib\\site-packages (from gensim) (1.18.1)\n",
      "Collecting smart-open>=1.8.1\n",
      "  Downloading smart_open-5.0.0-py3-none-any.whl (56 kB)\n",
      "Collecting Cython==0.29.21\n",
      "  Downloading Cython-0.29.21-cp37-cp37m-win_amd64.whl (1.6 MB)\n",
      "Installing collected packages: smart-open, Cython, gensim\n",
      "  Attempting uninstall: Cython\n",
      "    Found existing installation: Cython 0.29.15\n",
      "    Uninstalling Cython-0.29.15:\n",
      "      Successfully uninstalled Cython-0.29.15\n",
      "Successfully installed Cython-0.29.21 gensim-4.0.1 smart-open-5.0.0\n"
     ]
    }
   ],
   "source": [
    "!pip install gensim"
   ]
  },
  {
   "cell_type": "code",
   "execution_count": 8,
   "metadata": {},
   "outputs": [
    {
     "name": "stderr",
     "output_type": "stream",
     "text": [
      "C:\\Users\\manna\\anaconda3\\lib\\site-packages\\gensim\\similarities\\__init__.py:15: UserWarning: The gensim.similarities.levenshtein submodule is disabled, because the optional Levenshtein package <https://pypi.org/project/python-Levenshtein/> is unavailable. Install Levenhstein (e.g. `pip install python-Levenshtein`) to suppress this warning.\n",
      "  warnings.warn(msg)\n"
     ]
    }
   ],
   "source": [
    "import gensim\n",
    "from gensim.utils import simple_preprocess\n",
    "from gensim.parsing.preprocessing import STOPWORDS\n",
    "from nltk.stem import WordNetLemmatizer, SnowballStemmer\n",
    "from nltk.stem.porter import *\n",
    "import numpy as np\n",
    "np.random.seed(2018)"
   ]
  },
  {
   "cell_type": "code",
   "execution_count": 9,
   "metadata": {},
   "outputs": [
    {
     "name": "stderr",
     "output_type": "stream",
     "text": [
      "[nltk_data] Downloading package wordnet to\n",
      "[nltk_data]     C:\\Users\\manna\\AppData\\Roaming\\nltk_data...\n",
      "[nltk_data]   Package wordnet is already up-to-date!\n"
     ]
    },
    {
     "data": {
      "text/plain": [
       "True"
      ]
     },
     "execution_count": 9,
     "metadata": {},
     "output_type": "execute_result"
    }
   ],
   "source": [
    "import nltk\n",
    "nltk.download('wordnet')"
   ]
  },
  {
   "cell_type": "code",
   "execution_count": 10,
   "metadata": {},
   "outputs": [
    {
     "name": "stdout",
     "output_type": "stream",
     "text": [
      "go\n"
     ]
    }
   ],
   "source": [
    "print(WordNetLemmatizer().lemmatize('went', pos='v'))"
   ]
  },
  {
   "cell_type": "code",
   "execution_count": 13,
   "metadata": {},
   "outputs": [
    {
     "data": {
      "text/html": [
       "<div>\n",
       "<style scoped>\n",
       "    .dataframe tbody tr th:only-of-type {\n",
       "        vertical-align: middle;\n",
       "    }\n",
       "\n",
       "    .dataframe tbody tr th {\n",
       "        vertical-align: top;\n",
       "    }\n",
       "\n",
       "    .dataframe thead th {\n",
       "        text-align: right;\n",
       "    }\n",
       "</style>\n",
       "<table border=\"1\" class=\"dataframe\">\n",
       "  <thead>\n",
       "    <tr style=\"text-align: right;\">\n",
       "      <th></th>\n",
       "      <th>original word</th>\n",
       "      <th>stemmed</th>\n",
       "    </tr>\n",
       "  </thead>\n",
       "  <tbody>\n",
       "    <tr>\n",
       "      <th>0</th>\n",
       "      <td>caresses</td>\n",
       "      <td>caress</td>\n",
       "    </tr>\n",
       "    <tr>\n",
       "      <th>1</th>\n",
       "      <td>flies</td>\n",
       "      <td>fli</td>\n",
       "    </tr>\n",
       "    <tr>\n",
       "      <th>2</th>\n",
       "      <td>dies</td>\n",
       "      <td>die</td>\n",
       "    </tr>\n",
       "    <tr>\n",
       "      <th>3</th>\n",
       "      <td>mules</td>\n",
       "      <td>mule</td>\n",
       "    </tr>\n",
       "    <tr>\n",
       "      <th>4</th>\n",
       "      <td>denied</td>\n",
       "      <td>deni</td>\n",
       "    </tr>\n",
       "    <tr>\n",
       "      <th>5</th>\n",
       "      <td>died</td>\n",
       "      <td>die</td>\n",
       "    </tr>\n",
       "    <tr>\n",
       "      <th>6</th>\n",
       "      <td>agreed</td>\n",
       "      <td>agre</td>\n",
       "    </tr>\n",
       "    <tr>\n",
       "      <th>7</th>\n",
       "      <td>owned</td>\n",
       "      <td>own</td>\n",
       "    </tr>\n",
       "    <tr>\n",
       "      <th>8</th>\n",
       "      <td>humbled</td>\n",
       "      <td>humbl</td>\n",
       "    </tr>\n",
       "    <tr>\n",
       "      <th>9</th>\n",
       "      <td>sized</td>\n",
       "      <td>size</td>\n",
       "    </tr>\n",
       "    <tr>\n",
       "      <th>10</th>\n",
       "      <td>meeting</td>\n",
       "      <td>meet</td>\n",
       "    </tr>\n",
       "    <tr>\n",
       "      <th>11</th>\n",
       "      <td>stating</td>\n",
       "      <td>state</td>\n",
       "    </tr>\n",
       "    <tr>\n",
       "      <th>12</th>\n",
       "      <td>siezing</td>\n",
       "      <td>siez</td>\n",
       "    </tr>\n",
       "    <tr>\n",
       "      <th>13</th>\n",
       "      <td>itemization</td>\n",
       "      <td>item</td>\n",
       "    </tr>\n",
       "    <tr>\n",
       "      <th>14</th>\n",
       "      <td>sensational</td>\n",
       "      <td>sensat</td>\n",
       "    </tr>\n",
       "    <tr>\n",
       "      <th>15</th>\n",
       "      <td>traditional</td>\n",
       "      <td>tradit</td>\n",
       "    </tr>\n",
       "    <tr>\n",
       "      <th>16</th>\n",
       "      <td>reference</td>\n",
       "      <td>refer</td>\n",
       "    </tr>\n",
       "    <tr>\n",
       "      <th>17</th>\n",
       "      <td>colonizer</td>\n",
       "      <td>colon</td>\n",
       "    </tr>\n",
       "    <tr>\n",
       "      <th>18</th>\n",
       "      <td>plotted</td>\n",
       "      <td>plot</td>\n",
       "    </tr>\n",
       "  </tbody>\n",
       "</table>\n",
       "</div>"
      ],
      "text/plain": [
       "   original word stemmed\n",
       "0       caresses  caress\n",
       "1          flies     fli\n",
       "2           dies     die\n",
       "3          mules    mule\n",
       "4         denied    deni\n",
       "5           died     die\n",
       "6         agreed    agre\n",
       "7          owned     own\n",
       "8        humbled   humbl\n",
       "9          sized    size\n",
       "10       meeting    meet\n",
       "11       stating   state\n",
       "12       siezing    siez\n",
       "13   itemization    item\n",
       "14   sensational  sensat\n",
       "15   traditional  tradit\n",
       "16     reference   refer\n",
       "17     colonizer   colon\n",
       "18       plotted    plot"
      ]
     },
     "execution_count": 13,
     "metadata": {},
     "output_type": "execute_result"
    }
   ],
   "source": [
    "stemmer = SnowballStemmer('english')\n",
    "original_words = ['caresses', 'flies', 'dies', 'mules', 'denied','died', 'agreed', 'owned', \n",
    "           'humbled', 'sized','meeting', 'stating', 'siezing', 'itemization','sensational', \n",
    "           'traditional', 'reference', 'colonizer','plotted']\n",
    "singles = [stemmer.stem(plural) for plural in original_words]\n",
    "pd.DataFrame(data = {'original word': original_words, 'stemmed': singles})"
   ]
  },
  {
   "cell_type": "code",
   "execution_count": 14,
   "metadata": {},
   "outputs": [],
   "source": [
    "def lemmatize_stemming(text):\n",
    "    return stemmer.stem(WordNetLemmatizer().lemmatize(text, pos='v'))\n",
    "\n",
    "def preprocess(text):\n",
    "    result = []\n",
    "    for token in gensim.utils.simple_preprocess(text):\n",
    "        if token not in gensim.parsing.preprocessing.STOPWORDS and len(token) > 3:\n",
    "            result.append(lemmatize_stemming(token))\n",
    "    return result"
   ]
  },
  {
   "cell_type": "markdown",
   "metadata": {},
   "source": [
    "## Reviewing a Pre-Processed Document"
   ]
  },
  {
   "cell_type": "code",
   "execution_count": 15,
   "metadata": {},
   "outputs": [
    {
     "name": "stdout",
     "output_type": "stream",
     "text": [
      "original document: \n",
      "['this', 'film', 'uses', 'color', 'and', 'light', 'in', 'such', 'a', 'fantastic', 'way', ',', 'that', 'it', 'will', 'be', 'sad', 'to', 'see', 'it', 'degraded', 'when', 'it', 'has', 'to', 'bee', 'transferred', 'to', 'video', '.']\n",
      "\n",
      "\n",
      " tokenized and lemmatized document: \n",
      "['film', 'use', 'color', 'light', 'fantast', 'degrad', 'transfer', 'video']\n"
     ]
    }
   ],
   "source": [
    "doc_sample = documents[documents['index'] == 4310].values[0][0]\n",
    "\n",
    "print('original document: ')\n",
    "words = []\n",
    "for word in doc_sample.split(' '):\n",
    "    words.append(word)\n",
    "print(words)\n",
    "print('\\n\\n tokenized and lemmatized document: ')\n",
    "print(preprocess(doc_sample))"
   ]
  },
  {
   "cell_type": "code",
   "execution_count": 17,
   "metadata": {},
   "outputs": [],
   "source": [
    "processed_docs = documents['text'].map(preprocess)"
   ]
  },
  {
   "cell_type": "code",
   "execution_count": 18,
   "metadata": {},
   "outputs": [
    {
     "data": {
      "text/plain": [
       "0    [film, adapt, comic, book, plenti, success, su...\n",
       "1    [starter, creat, alan, moor, eddi, campbel, br...\n",
       "2    [moor, campbel, thorough, research, subject, j...\n",
       "3    [book, graphic, novel, page, long, includ, nea...\n",
       "4                         [word, dismiss, film, sourc]\n",
       "5    [past, comic, book, thing, stumbl, block, hell...\n",
       "6    [get, hugh, brother, direct, ludicr, cast, car...\n",
       "7    [ghetto, question, cours, whitechapel, london,...\n",
       "8    [filthi, sooti, place, whore, call, unfortun, ...\n",
       "9    [stiff, turn, copper, peter, godley, robbi, co...\n",
       "Name: text, dtype: object"
      ]
     },
     "execution_count": 18,
     "metadata": {},
     "output_type": "execute_result"
    }
   ],
   "source": [
    "processed_docs[:10]"
   ]
  },
  {
   "cell_type": "markdown",
   "metadata": {},
   "source": [
    "## Bag of Words on the Data set\n",
    "\n",
    "Create a dictionary from ‘processed_docs’ containing the number of times a word appears in the training set."
   ]
  },
  {
   "cell_type": "code",
   "execution_count": 20,
   "metadata": {},
   "outputs": [],
   "source": [
    "dictionary = gensim.corpora.Dictionary(processed_docs)"
   ]
  },
  {
   "cell_type": "code",
   "execution_count": 21,
   "metadata": {},
   "outputs": [
    {
     "name": "stdout",
     "output_type": "stream",
     "text": [
      "0 adapt\n",
      "1 arthous\n",
      "2 batman\n",
      "3 book\n",
      "4 casper\n",
      "5 comic\n",
      "6 crowd\n",
      "7 film\n",
      "8 gear\n",
      "9 ghost\n",
      "10 hell\n"
     ]
    }
   ],
   "source": [
    "count = 0\n",
    "for k, v in dictionary.iteritems():\n",
    "    print(k, v)\n",
    "    count += 1\n",
    "    if count > 10:\n",
    "        break"
   ]
  },
  {
   "cell_type": "markdown",
   "metadata": {},
   "source": [
    "## Gensim doc2bow"
   ]
  },
  {
   "cell_type": "markdown",
   "metadata": {},
   "source": [
    "For each document we create a dictionary reporting how many\n",
    "words and how many times those words appear. Save this to ‘bow_corpus’, then check our selected document earlier."
   ]
  },
  {
   "cell_type": "code",
   "execution_count": 22,
   "metadata": {},
   "outputs": [],
   "source": [
    "dictionary.filter_extremes(no_below=15, no_above=0.5, keep_n=100000)"
   ]
  },
  {
   "cell_type": "code",
   "execution_count": 23,
   "metadata": {},
   "outputs": [
    {
     "data": {
      "text/plain": [
       "[(6, 1), (167, 1), (336, 1), (353, 1), (1155, 1), (1725, 1), (1962, 1)]"
      ]
     },
     "execution_count": 23,
     "metadata": {},
     "output_type": "execute_result"
    }
   ],
   "source": [
    "bow_corpus = [dictionary.doc2bow(doc) for doc in processed_docs]\n",
    "bow_corpus[4310]"
   ]
  },
  {
   "cell_type": "code",
   "execution_count": 24,
   "metadata": {},
   "outputs": [
    {
     "name": "stdout",
     "output_type": "stream",
     "text": [
      "Word 6 (\"film\") appears 1 time.\n",
      "Word 167 (\"color\") appears 1 time.\n",
      "Word 336 (\"fantast\") appears 1 time.\n",
      "Word 353 (\"light\") appears 1 time.\n",
      "Word 1155 (\"use\") appears 1 time.\n",
      "Word 1725 (\"transfer\") appears 1 time.\n",
      "Word 1962 (\"video\") appears 1 time.\n"
     ]
    }
   ],
   "source": [
    "bow_doc_4310 = bow_corpus[4310]\n",
    "\n",
    "for i in range(len(bow_doc_4310)):\n",
    "    print(\"Word {} (\\\"{}\\\") appears {} time.\".format(bow_doc_4310[i][0], \n",
    "                                                     dictionary[bow_doc_4310[i][0]], \n",
    "                                                     bow_doc_4310[i][1]))"
   ]
  },
  {
   "cell_type": "code",
   "execution_count": 25,
   "metadata": {},
   "outputs": [],
   "source": [
    "from gensim import corpora, models\n",
    "\n",
    "tfidf = models.TfidfModel(bow_corpus)"
   ]
  },
  {
   "cell_type": "code",
   "execution_count": 28,
   "metadata": {},
   "outputs": [],
   "source": [
    "corpus_tfidf = tfidf[bow_corpus]"
   ]
  },
  {
   "cell_type": "code",
   "execution_count": 27,
   "metadata": {},
   "outputs": [
    {
     "name": "stdout",
     "output_type": "stream",
     "text": [
      "[(0, 0.21246634848742238),\n",
      " (1, 0.20980660150162397),\n",
      " (2, 0.3624850812950978),\n",
      " (3, 0.2834258265657344),\n",
      " (4, 0.35835645432120256),\n",
      " (5, 0.23281017415313882),\n",
      " (6, 0.06588996776146727),\n",
      " (7, 0.26458149213053767),\n",
      " (8, 0.2238836624823618),\n",
      " (9, 0.20064171335504224),\n",
      " (10, 0.1883740644116179),\n",
      " (11, 0.10009772720609417),\n",
      " (12, 0.2182159681867206),\n",
      " (13, 0.23281017415313882),\n",
      " (14, 0.17485457201825594),\n",
      " (15, 0.269477578635442),\n",
      " (16, 0.28190706672243887),\n",
      " (17, 0.1475832865099792)]\n"
     ]
    }
   ],
   "source": [
    "from pprint import pprint\n",
    "\n",
    "for doc in corpus_tfidf:\n",
    "    pprint(doc)\n",
    "    break"
   ]
  },
  {
   "cell_type": "code",
   "execution_count": 31,
   "metadata": {},
   "outputs": [],
   "source": [
    "lda_model = gensim.models.LdaMulticore(bow_corpus, num_topics=10, id2word=dictionary, passes=2, workers=2)"
   ]
  },
  {
   "cell_type": "code",
   "execution_count": 32,
   "metadata": {},
   "outputs": [
    {
     "name": "stdout",
     "output_type": "stream",
     "text": [
      "Topic: 0 \n",
      "Words: 0.040*\"like\" + 0.029*\"movi\" + 0.020*\"know\" + 0.011*\"go\" + 0.009*\"want\" + 0.009*\"film\" + 0.007*\"look\" + 0.007*\"video\" + 0.007*\"review\" + 0.007*\"watch\"\n",
      "Topic: 1 \n",
      "Words: 0.046*\"film\" + 0.015*\"movi\" + 0.011*\"comedi\" + 0.008*\"littl\" + 0.007*\"take\" + 0.007*\"mayb\" + 0.007*\"high\" + 0.006*\"year\" + 0.006*\"star\" + 0.006*\"rat\"\n",
      "Topic: 2 \n",
      "Words: 0.035*\"film\" + 0.021*\"scene\" + 0.012*\"minut\" + 0.012*\"work\" + 0.011*\"movi\" + 0.011*\"final\" + 0.010*\"obvious\" + 0.008*\"thing\" + 0.007*\"hour\" + 0.007*\"laugh\"\n",
      "Topic: 3 \n",
      "Words: 0.010*\"play\" + 0.008*\"charact\" + 0.008*\"film\" + 0.008*\"come\" + 0.007*\"king\" + 0.007*\"want\" + 0.006*\"peopl\" + 0.006*\"get\" + 0.006*\"fall\" + 0.006*\"wait\"\n",
      "Topic: 4 \n",
      "Words: 0.015*\"film\" + 0.009*\"like\" + 0.009*\"love\" + 0.008*\"play\" + 0.008*\"kill\" + 0.007*\"movi\" + 0.007*\"charact\" + 0.007*\"plot\" + 0.006*\"tri\" + 0.005*\"friend\"\n",
      "Topic: 5 \n",
      "Words: 0.010*\"like\" + 0.010*\"life\" + 0.008*\"movi\" + 0.008*\"long\" + 0.007*\"live\" + 0.007*\"feel\" + 0.006*\"shoot\" + 0.006*\"real\" + 0.006*\"world\" + 0.005*\"stori\"\n",
      "Topic: 6 \n",
      "Words: 0.019*\"film\" + 0.009*\"think\" + 0.008*\"year\" + 0.008*\"scene\" + 0.007*\"moment\" + 0.007*\"littl\" + 0.007*\"anim\" + 0.006*\"peopl\" + 0.006*\"end\" + 0.006*\"father\"\n",
      "Topic: 7 \n",
      "Words: 0.042*\"film\" + 0.017*\"movi\" + 0.015*\"effect\" + 0.015*\"like\" + 0.014*\"look\" + 0.013*\"action\" + 0.011*\"pictur\" + 0.009*\"special\" + 0.009*\"director\" + 0.008*\"good\"\n",
      "Topic: 8 \n",
      "Words: 0.061*\"movi\" + 0.022*\"time\" + 0.012*\"funni\" + 0.010*\"think\" + 0.010*\"come\" + 0.010*\"see\" + 0.009*\"play\" + 0.008*\"year\" + 0.007*\"best\" + 0.007*\"thing\"\n",
      "Topic: 9 \n",
      "Words: 0.030*\"charact\" + 0.020*\"stori\" + 0.020*\"actor\" + 0.016*\"film\" + 0.014*\"perform\" + 0.013*\"role\" + 0.012*\"cast\" + 0.012*\"good\" + 0.012*\"play\" + 0.010*\"act\"\n"
     ]
    }
   ],
   "source": [
    "for idx, topic in lda_model.print_topics(-1):\n",
    "    print('Topic: {} \\nWords: {}'.format(idx, topic))"
   ]
  },
  {
   "cell_type": "code",
   "execution_count": 33,
   "metadata": {},
   "outputs": [],
   "source": [
    "lda_model_tfidf = gensim.models.LdaMulticore(corpus_tfidf, num_topics=10, id2word=dictionary, passes=2, workers=4)"
   ]
  },
  {
   "cell_type": "code",
   "execution_count": 35,
   "metadata": {},
   "outputs": [
    {
     "name": "stdout",
     "output_type": "stream",
     "text": [
      "Topic: 0 Word: 0.012*\"film\" + 0.008*\"movi\" + 0.007*\"work\" + 0.005*\"say\" + 0.005*\"care\" + 0.005*\"charact\" + 0.005*\"better\" + 0.005*\"scene\" + 0.004*\"time\" + 0.004*\"like\"\n",
      "Topic: 1 Word: 0.007*\"film\" + 0.007*\"think\" + 0.006*\"movi\" + 0.004*\"laugh\" + 0.004*\"like\" + 0.004*\"charact\" + 0.004*\"play\" + 0.003*\"come\" + 0.003*\"okay\" + 0.003*\"scene\"\n",
      "Topic: 2 Word: 0.009*\"film\" + 0.006*\"year\" + 0.006*\"movi\" + 0.005*\"bore\" + 0.004*\"wait\" + 0.004*\"like\" + 0.004*\"begin\" + 0.004*\"reason\" + 0.003*\"suppos\" + 0.003*\"godzilla\"\n",
      "Topic: 3 Word: 0.008*\"film\" + 0.008*\"movi\" + 0.007*\"effect\" + 0.006*\"special\" + 0.005*\"like\" + 0.005*\"star\" + 0.005*\"look\" + 0.004*\"miss\" + 0.004*\"rat\" + 0.004*\"charact\"\n",
      "Topic: 4 Word: 0.008*\"like\" + 0.008*\"film\" + 0.007*\"movi\" + 0.005*\"act\" + 0.005*\"thing\" + 0.005*\"go\" + 0.005*\"stori\" + 0.005*\"charact\" + 0.005*\"entertain\" + 0.004*\"tell\"\n",
      "Topic: 5 Word: 0.009*\"know\" + 0.008*\"film\" + 0.006*\"movi\" + 0.004*\"wors\" + 0.004*\"charact\" + 0.004*\"like\" + 0.004*\"scene\" + 0.004*\"kill\" + 0.004*\"come\" + 0.003*\"perfect\"\n",
      "Topic: 6 Word: 0.009*\"film\" + 0.008*\"movi\" + 0.007*\"time\" + 0.007*\"minut\" + 0.006*\"wrong\" + 0.005*\"charact\" + 0.005*\"point\" + 0.005*\"right\" + 0.005*\"watch\" + 0.005*\"see\"\n",
      "Topic: 7 Word: 0.011*\"good\" + 0.009*\"film\" + 0.008*\"movi\" + 0.006*\"funni\" + 0.005*\"pretti\" + 0.005*\"mean\" + 0.004*\"think\" + 0.004*\"charact\" + 0.004*\"love\" + 0.004*\"time\"\n",
      "Topic: 8 Word: 0.007*\"movi\" + 0.007*\"film\" + 0.005*\"happen\" + 0.004*\"charact\" + 0.004*\"littl\" + 0.004*\"like\" + 0.004*\"expect\" + 0.004*\"aw\" + 0.003*\"talk\" + 0.003*\"cool\"\n",
      "Topic: 9 Word: 0.011*\"movi\" + 0.006*\"film\" + 0.004*\"like\" + 0.004*\"plot\" + 0.004*\"good\" + 0.004*\"cast\" + 0.004*\"play\" + 0.004*\"charact\" + 0.003*\"rest\" + 0.003*\"time\"\n"
     ]
    }
   ],
   "source": [
    "for idx, topic in lda_model_tfidf.print_topics(-1):\n",
    "    print('Topic: {} Word: {}'.format(idx, topic))"
   ]
  },
  {
   "cell_type": "markdown",
   "metadata": {},
   "source": [
    "Classification of the topics"
   ]
  },
  {
   "cell_type": "code",
   "execution_count": 36,
   "metadata": {},
   "outputs": [
    {
     "data": {
      "text/plain": [
       "['film', 'use', 'color', 'light', 'fantast', 'degrad', 'transfer', 'video']"
      ]
     },
     "execution_count": 36,
     "metadata": {},
     "output_type": "execute_result"
    }
   ],
   "source": [
    "processed_docs[4310]"
   ]
  },
  {
   "cell_type": "code",
   "execution_count": 37,
   "metadata": {},
   "outputs": [
    {
     "name": "stdout",
     "output_type": "stream",
     "text": [
      "\n",
      "Score: 0.6273005604743958\t \n",
      "Topic: 0.046*\"film\" + 0.015*\"movi\" + 0.011*\"comedi\" + 0.008*\"littl\" + 0.007*\"take\" + 0.007*\"mayb\" + 0.007*\"high\" + 0.006*\"year\" + 0.006*\"star\" + 0.006*\"rat\"\n",
      "\n",
      "Score: 0.27261605858802795\t \n",
      "Topic: 0.040*\"like\" + 0.029*\"movi\" + 0.020*\"know\" + 0.011*\"go\" + 0.009*\"want\" + 0.009*\"film\" + 0.007*\"look\" + 0.007*\"video\" + 0.007*\"review\" + 0.007*\"watch\"\n",
      "\n",
      "Score: 0.01251349039375782\t \n",
      "Topic: 0.010*\"play\" + 0.008*\"charact\" + 0.008*\"film\" + 0.008*\"come\" + 0.007*\"king\" + 0.007*\"want\" + 0.006*\"peopl\" + 0.006*\"get\" + 0.006*\"fall\" + 0.006*\"wait\"\n",
      "\n",
      "Score: 0.01251315139234066\t \n",
      "Topic: 0.042*\"film\" + 0.017*\"movi\" + 0.015*\"effect\" + 0.015*\"like\" + 0.014*\"look\" + 0.013*\"action\" + 0.011*\"pictur\" + 0.009*\"special\" + 0.009*\"director\" + 0.008*\"good\"\n",
      "\n",
      "Score: 0.012510421685874462\t \n",
      "Topic: 0.010*\"like\" + 0.010*\"life\" + 0.008*\"movi\" + 0.008*\"long\" + 0.007*\"live\" + 0.007*\"feel\" + 0.006*\"shoot\" + 0.006*\"real\" + 0.006*\"world\" + 0.005*\"stori\"\n",
      "\n",
      "Score: 0.012510191649198532\t \n",
      "Topic: 0.035*\"film\" + 0.021*\"scene\" + 0.012*\"minut\" + 0.012*\"work\" + 0.011*\"movi\" + 0.011*\"final\" + 0.010*\"obvious\" + 0.008*\"thing\" + 0.007*\"hour\" + 0.007*\"laugh\"\n",
      "\n",
      "Score: 0.012510118074715137\t \n",
      "Topic: 0.019*\"film\" + 0.009*\"think\" + 0.008*\"year\" + 0.008*\"scene\" + 0.007*\"moment\" + 0.007*\"littl\" + 0.007*\"anim\" + 0.006*\"peopl\" + 0.006*\"end\" + 0.006*\"father\"\n",
      "\n",
      "Score: 0.01250899862498045\t \n",
      "Topic: 0.015*\"film\" + 0.009*\"like\" + 0.009*\"love\" + 0.008*\"play\" + 0.008*\"kill\" + 0.007*\"movi\" + 0.007*\"charact\" + 0.007*\"plot\" + 0.006*\"tri\" + 0.005*\"friend\"\n",
      "\n",
      "Score: 0.012508765794336796\t \n",
      "Topic: 0.030*\"charact\" + 0.020*\"stori\" + 0.020*\"actor\" + 0.016*\"film\" + 0.014*\"perform\" + 0.013*\"role\" + 0.012*\"cast\" + 0.012*\"good\" + 0.012*\"play\" + 0.010*\"act\"\n",
      "\n",
      "Score: 0.012508236803114414\t \n",
      "Topic: 0.061*\"movi\" + 0.022*\"time\" + 0.012*\"funni\" + 0.010*\"think\" + 0.010*\"come\" + 0.010*\"see\" + 0.009*\"play\" + 0.008*\"year\" + 0.007*\"best\" + 0.007*\"thing\"\n"
     ]
    }
   ],
   "source": [
    "for index, score in sorted(lda_model[bow_corpus[4310]], key=lambda tup: -1*tup[1]):\n",
    "    print(\"\\nScore: {}\\t \\nTopic: {}\".format(score, lda_model.print_topic(index, 10)))"
   ]
  },
  {
   "cell_type": "code",
   "execution_count": 38,
   "metadata": {},
   "outputs": [
    {
     "name": "stdout",
     "output_type": "stream",
     "text": [
      "\n",
      "Score: 0.8874301910400391\t \n",
      "Topic: 0.009*\"film\" + 0.006*\"year\" + 0.006*\"movi\" + 0.005*\"bore\" + 0.004*\"wait\" + 0.004*\"like\" + 0.004*\"begin\" + 0.004*\"reason\" + 0.003*\"suppos\" + 0.003*\"godzilla\"\n",
      "\n",
      "Score: 0.012510078027844429\t \n",
      "Topic: 0.007*\"film\" + 0.007*\"think\" + 0.006*\"movi\" + 0.004*\"laugh\" + 0.004*\"like\" + 0.004*\"charact\" + 0.004*\"play\" + 0.003*\"come\" + 0.003*\"okay\" + 0.003*\"scene\"\n",
      "\n",
      "Score: 0.012508516199886799\t \n",
      "Topic: 0.011*\"good\" + 0.009*\"film\" + 0.008*\"movi\" + 0.006*\"funni\" + 0.005*\"pretti\" + 0.005*\"mean\" + 0.004*\"think\" + 0.004*\"charact\" + 0.004*\"love\" + 0.004*\"time\"\n",
      "\n",
      "Score: 0.012508366256952286\t \n",
      "Topic: 0.008*\"film\" + 0.008*\"movi\" + 0.007*\"effect\" + 0.006*\"special\" + 0.005*\"like\" + 0.005*\"star\" + 0.005*\"look\" + 0.004*\"miss\" + 0.004*\"rat\" + 0.004*\"charact\"\n",
      "\n",
      "Score: 0.012508119456470013\t \n",
      "Topic: 0.012*\"film\" + 0.008*\"movi\" + 0.007*\"work\" + 0.005*\"say\" + 0.005*\"care\" + 0.005*\"charact\" + 0.005*\"better\" + 0.005*\"scene\" + 0.004*\"time\" + 0.004*\"like\"\n",
      "\n",
      "Score: 0.012507270090281963\t \n",
      "Topic: 0.009*\"film\" + 0.008*\"movi\" + 0.007*\"time\" + 0.007*\"minut\" + 0.006*\"wrong\" + 0.005*\"charact\" + 0.005*\"point\" + 0.005*\"right\" + 0.005*\"watch\" + 0.005*\"see\"\n",
      "\n",
      "Score: 0.01250726543366909\t \n",
      "Topic: 0.007*\"movi\" + 0.007*\"film\" + 0.005*\"happen\" + 0.004*\"charact\" + 0.004*\"littl\" + 0.004*\"like\" + 0.004*\"expect\" + 0.004*\"aw\" + 0.003*\"talk\" + 0.003*\"cool\"\n",
      "\n",
      "Score: 0.012506850995123386\t \n",
      "Topic: 0.009*\"know\" + 0.008*\"film\" + 0.006*\"movi\" + 0.004*\"wors\" + 0.004*\"charact\" + 0.004*\"like\" + 0.004*\"scene\" + 0.004*\"kill\" + 0.004*\"come\" + 0.003*\"perfect\"\n",
      "\n",
      "Score: 0.012506724335253239\t \n",
      "Topic: 0.011*\"movi\" + 0.006*\"film\" + 0.004*\"like\" + 0.004*\"plot\" + 0.004*\"good\" + 0.004*\"cast\" + 0.004*\"play\" + 0.004*\"charact\" + 0.003*\"rest\" + 0.003*\"time\"\n",
      "\n",
      "Score: 0.012506626546382904\t \n",
      "Topic: 0.008*\"like\" + 0.008*\"film\" + 0.007*\"movi\" + 0.005*\"act\" + 0.005*\"thing\" + 0.005*\"go\" + 0.005*\"stori\" + 0.005*\"charact\" + 0.005*\"entertain\" + 0.004*\"tell\"\n"
     ]
    }
   ],
   "source": [
    "for index, score in sorted(lda_model_tfidf[bow_corpus[4310]], key=lambda tup: -1*tup[1]):\n",
    "    print(\"\\nScore: {}\\t \\nTopic: {}\".format(score, lda_model_tfidf.print_topic(index, 10)))"
   ]
  },
  {
   "cell_type": "code",
   "execution_count": 39,
   "metadata": {},
   "outputs": [
    {
     "data": {
      "text/plain": [
       "'1.18.1'"
      ]
     },
     "execution_count": 39,
     "metadata": {},
     "output_type": "execute_result"
    }
   ],
   "source": [
    "import numpy\n",
    "numpy.version.version"
   ]
  },
  {
   "cell_type": "code",
   "execution_count": null,
   "metadata": {},
   "outputs": [],
   "source": []
  }
 ],
 "metadata": {
  "kernelspec": {
   "display_name": "Python 3",
   "language": "python",
   "name": "python3"
  },
  "language_info": {
   "codemirror_mode": {
    "name": "ipython",
    "version": 3
   },
   "file_extension": ".py",
   "mimetype": "text/x-python",
   "name": "python",
   "nbconvert_exporter": "python",
   "pygments_lexer": "ipython3",
   "version": "3.7.6"
  }
 },
 "nbformat": 4,
 "nbformat_minor": 4
}
