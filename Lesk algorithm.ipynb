{
 "cells": [
  {
   "cell_type": "markdown",
   "metadata": {},
   "source": [
    "# Lesk algorithm ( Word Sense Disambiguation )"
   ]
  },
  {
   "cell_type": "code",
   "execution_count": 1,
   "metadata": {},
   "outputs": [
    {
     "name": "stdout",
     "output_type": "stream",
     "text": [
      "<bound method Synset.name of Synset('bank.n.01')>: <bound method Synset.definition of Synset('bank.n.01')>\n",
      "<bound method Synset.name of Synset('set.n.01')>: <bound method Synset.definition of Synset('set.n.01')>\n",
      "<bound method Synset.name of Synset('put.v.01')>: <bound method Synset.definition of Synset('put.v.01')>\n"
     ]
    }
   ],
   "source": [
    "from nltk.corpus import wordnet as wn\n",
    "\n",
    "def get_first_sense(word, pos=None):\n",
    "    if pos:\n",
    "        synsets = wn.synsets(word,pos)\n",
    "    else:\n",
    "        synsets = wn.synsets(word)\n",
    "    return synsets[0]\n",
    "\n",
    "best_synset = get_first_sense('bank')\n",
    "print ('%s: %s' % (best_synset.name, best_synset.definition))\n",
    "best_synset = get_first_sense('set','n')\n",
    "print ('%s: %s' % (best_synset.name, best_synset.definition))\n",
    "best_synset = get_first_sense('set','v')\n",
    "print ('%s: %s' % (best_synset.name, best_synset.definition))"
   ]
  },
  {
   "cell_type": "code",
   "execution_count": null,
   "metadata": {},
   "outputs": [],
   "source": []
  }
 ],
 "metadata": {
  "kernelspec": {
   "display_name": "Python 3",
   "language": "python",
   "name": "python3"
  },
  "language_info": {
   "codemirror_mode": {
    "name": "ipython",
    "version": 3
   },
   "file_extension": ".py",
   "mimetype": "text/x-python",
   "name": "python",
   "nbconvert_exporter": "python",
   "pygments_lexer": "ipython3",
   "version": "3.7.6"
  }
 },
 "nbformat": 4,
 "nbformat_minor": 4
}
